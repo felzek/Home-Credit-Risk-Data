{
  "nbformat": 4,
  "nbformat_minor": 0,
  "metadata": {
    "colab": {
      "name": "Kaggle.ipynb",
      "version": "0.3.2",
      "provenance": [],
      "include_colab_link": true
    }
  },
  "cells": [
    {
      "cell_type": "markdown",
      "metadata": {
        "id": "view-in-github",
        "colab_type": "text"
      },
      "source": [
        "[View in Colaboratory](https://colab.research.google.com/github/ykpengba/Home-Credit-Risk-Data/blob/master/Kaggle.ipynb)"
      ]
    },
    {
      "metadata": {
        "id": "OkCTrQ_l3zwS",
        "colab_type": "code",
        "colab": {
          "base_uri": "https://localhost:8080/",
          "height": 496
        },
        "outputId": "5b54f418-2205-4cfa-bd7b-a44a2c3debf3"
      },
      "cell_type": "code",
      "source": [
        "!pip install kaggle-cli"
      ],
      "execution_count": 7,
      "outputs": [
        {
          "output_type": "stream",
          "text": [
            "Requirement already satisfied: kaggle-cli in /usr/local/lib/python2.7/dist-packages (0.12.13)\n",
            "Requirement already satisfied: lxml<4.1,>=4.0.0 in /usr/local/lib/python2.7/dist-packages (from kaggle-cli) (4.0.0)\n",
            "Requirement already satisfied: beautifulsoup4<4.7,>=4.6.0 in /usr/local/lib/python2.7/dist-packages (from kaggle-cli) (4.6.0)\n",
            "Requirement already satisfied: cssselect<1.1,>=1.0.1 in /usr/local/lib/python2.7/dist-packages (from kaggle-cli) (1.0.3)\n",
            "Requirement already satisfied: configparser in /usr/local/lib/python2.7/dist-packages (from kaggle-cli) (3.5.0)\n",
            "Requirement already satisfied: progressbar2<3.35,>=3.34.3 in /usr/local/lib/python2.7/dist-packages (from kaggle-cli) (3.34.3)\n",
            "Requirement already satisfied: cliff<2.9,>=2.8.0 in /usr/local/lib/python2.7/dist-packages (from kaggle-cli) (2.8.2)\n",
            "Requirement already satisfied: MechanicalSoup<0.9,>=0.7.0 in /usr/local/lib/python2.7/dist-packages (from kaggle-cli) (0.8.0)\n",
            "Requirement already satisfied: python-utils>=2.1.0 in /usr/local/lib/python2.7/dist-packages (from progressbar2<3.35,>=3.34.3->kaggle-cli) (2.3.0)\n",
            "Requirement already satisfied: PrettyTable<0.8,>=0.7.1 in /usr/local/lib/python2.7/dist-packages (from cliff<2.9,>=2.8.0->kaggle-cli) (0.7.2)\n",
            "Requirement already satisfied: stevedore>=1.20.0 in /usr/local/lib/python2.7/dist-packages (from cliff<2.9,>=2.8.0->kaggle-cli) (1.29.0)\n",
            "Requirement already satisfied: cmd2<0.9.0,>=0.6.7; python_version < \"3.0\" in /usr/local/lib/python2.7/dist-packages (from cliff<2.9,>=2.8.0->kaggle-cli) (0.8.8)\n",
            "Requirement already satisfied: pyparsing>=2.1.0 in /usr/local/lib/python2.7/dist-packages (from cliff<2.9,>=2.8.0->kaggle-cli) (2.2.0)\n",
            "Requirement already satisfied: PyYAML>=3.10.0 in /usr/local/lib/python2.7/dist-packages (from cliff<2.9,>=2.8.0->kaggle-cli) (3.13)\n",
            "Requirement already satisfied: pbr!=2.1.0,>=2.0.0 in /usr/local/lib/python2.7/dist-packages (from cliff<2.9,>=2.8.0->kaggle-cli) (4.1.0)\n",
            "Requirement already satisfied: unicodecsv>=0.8.0; python_version < \"3.0\" in /usr/local/lib/python2.7/dist-packages (from cliff<2.9,>=2.8.0->kaggle-cli) (0.14.1)\n",
            "Requirement already satisfied: six>=1.9.0 in /usr/local/lib/python2.7/dist-packages (from cliff<2.9,>=2.8.0->kaggle-cli) (1.11.0)\n",
            "Requirement already satisfied: requests>=2.0 in /usr/local/lib/python2.7/dist-packages (from MechanicalSoup<0.9,>=0.7.0->kaggle-cli) (2.18.4)\n",
            "Requirement already satisfied: contextlib2; python_version < \"3.5\" in /usr/local/lib/python2.7/dist-packages (from cmd2<0.9.0,>=0.6.7; python_version < \"3.0\"->cliff<2.9,>=2.8.0->kaggle-cli) (0.5.5)\n",
            "Requirement already satisfied: enum34; python_version < \"3.4\" in /usr/local/lib/python2.7/dist-packages (from cmd2<0.9.0,>=0.6.7; python_version < \"3.0\"->cliff<2.9,>=2.8.0->kaggle-cli) (1.1.6)\n",
            "Requirement already satisfied: wcwidth; sys_platform != \"win32\" in /usr/local/lib/python2.7/dist-packages (from cmd2<0.9.0,>=0.6.7; python_version < \"3.0\"->cliff<2.9,>=2.8.0->kaggle-cli) (0.1.7)\n",
            "Requirement already satisfied: subprocess32; python_version < \"3.0\" in /usr/local/lib/python2.7/dist-packages (from cmd2<0.9.0,>=0.6.7; python_version < \"3.0\"->cliff<2.9,>=2.8.0->kaggle-cli) (3.5.2)\n",
            "Requirement already satisfied: pyperclip in /usr/local/lib/python2.7/dist-packages (from cmd2<0.9.0,>=0.6.7; python_version < \"3.0\"->cliff<2.9,>=2.8.0->kaggle-cli) (1.6.4)\n",
            "Requirement already satisfied: idna<2.7,>=2.5 in /usr/local/lib/python2.7/dist-packages (from requests>=2.0->MechanicalSoup<0.9,>=0.7.0->kaggle-cli) (2.6)\n",
            "Requirement already satisfied: urllib3<1.23,>=1.21.1 in /usr/local/lib/python2.7/dist-packages (from requests>=2.0->MechanicalSoup<0.9,>=0.7.0->kaggle-cli) (1.22)\n",
            "Requirement already satisfied: certifi>=2017.4.17 in /usr/local/lib/python2.7/dist-packages (from requests>=2.0->MechanicalSoup<0.9,>=0.7.0->kaggle-cli) (2018.4.16)\n",
            "Requirement already satisfied: chardet<3.1.0,>=3.0.2 in /usr/local/lib/python2.7/dist-packages (from requests>=2.0->MechanicalSoup<0.9,>=0.7.0->kaggle-cli) (3.0.4)\n"
          ],
          "name": "stdout"
        }
      ]
    },
    {
      "metadata": {
        "id": "qOPRR79-537A",
        "colab_type": "code",
        "colab": {}
      },
      "cell_type": "code",
      "source": [
        "!kg config -u yukunpengba@gmail.com -p Hero1345679 -c home-credit-default-risk"
      ],
      "execution_count": 0,
      "outputs": []
    },
    {
      "metadata": {
        "id": "r9OqfNVP39oo",
        "colab_type": "code",
        "colab": {
          "base_uri": "https://localhost:8080/",
          "height": 34
        },
        "outputId": "9a1f63df-b28f-4d17-94c4-9f86a42be7fa"
      },
      "cell_type": "code",
      "source": [
        "!kg config –u <your username (your email most likely)> -p <your password> -c <competition name>"
      ],
      "execution_count": 9,
      "outputs": [
        {
          "output_type": "stream",
          "text": [
            "/bin/sh: 1: Syntax error: \"(\" unexpected\r\n"
          ],
          "name": "stdout"
        }
      ]
    },
    {
      "metadata": {
        "id": "p0NfD6jkKZBS",
        "colab_type": "code",
        "colab": {
          "base_uri": "https://localhost:8080/",
          "height": 51
        },
        "outputId": "0d22cd0b-8f69-4100-8491-396d8f7649e9"
      },
      "cell_type": "code",
      "source": [
        "!kg config"
      ],
      "execution_count": 14,
      "outputs": [
        {
          "output_type": "stream",
          "text": [
            "Working config:\r\n",
            "[('username', u'yukunpengba@gmail.com'), ('password', '********'), ('competition', u'home-credit-default-risk')]\r\n"
          ],
          "name": "stdout"
        }
      ]
    },
    {
      "metadata": {
        "id": "OEgXFXoMLTV1",
        "colab_type": "code",
        "colab": {
          "base_uri": "https://localhost:8080/",
          "height": 717
        },
        "outputId": "21019b71-131f-4579-dd9f-2309f90234a0"
      },
      "cell_type": "code",
      "source": [
        "!kg download"
      ],
      "execution_count": 15,
      "outputs": [
        {
          "output_type": "stream",
          "text": [
            "downloading https://www.kaggle.com/c/home-credit-default-risk/download/sample_submission.csv.zip\r\n",
            "\n",
            "sample_submission.csv.zip 100% |#####################| Time: 0:00:00 320.0 KiB/s\n",
            "\n",
            "downloading https://www.kaggle.com/c/home-credit-default-risk/download/application_test.csv.zip\n",
            "\n",
            "application_test.csv.zip 100% |######################| Time: 0:00:00   7.8 MiB/s\n",
            "\n",
            "downloading https://www.kaggle.com/c/home-credit-default-risk/download/application_train.csv.zip\n",
            "\n",
            "application_train.csv.zip 100% |#####################| Time: 0:00:01  26.3 MiB/s\n",
            "\n",
            "downloading https://www.kaggle.com/c/home-credit-default-risk/download/bureau.csv.zip\n",
            "\n",
            "bureau.csv.zip 100% |################################| Time: 0:00:01  25.4 MiB/s\n",
            "\n",
            "downloading https://www.kaggle.com/c/home-credit-default-risk/download/bureau_balance.csv.zip\n",
            "\n",
            "bureau_balance.csv.zip 100% |########################| Time: 0:00:01  31.7 MiB/s\n",
            "\n",
            "downloading https://www.kaggle.com/c/home-credit-default-risk/download/previous_application.csv.zip\n",
            "\n",
            "previous_application.csv.zip 100% |##################| Time: 0:00:02  32.0 MiB/s\n",
            "\n",
            "downloading https://www.kaggle.com/c/home-credit-default-risk/download/credit_card_balance.csv.zip\n",
            "\n",
            "credit_card_balance.csv.zip  52% |#########          | ETA:  0:00:01  27.3 MiB/s"
          ],
          "name": "stdout"
        },
        {
          "output_type": "stream",
          "text": [
            "credit_card_balance.csv.zip 100% |###################| Time: 0:00:03  31.0 MiB/s\n",
            "\n",
            "downloading https://www.kaggle.com/c/home-credit-default-risk/download/POS_CASH_balance.csv.zip\n",
            "\n",
            "POS_CASH_balance.csv.zip 100% |######################| Time: 0:00:03  35.6 MiB/s\n",
            "\n",
            "downloading https://www.kaggle.com/c/home-credit-default-risk/download/installments_payments.csv.zip\n",
            "\n",
            "installments_payments.csv.zip 100% |#################| Time: 0:00:12  22.3 MiB/s\n",
            "\n",
            "downloading https://www.kaggle.com/c/home-credit-default-risk/download/HomeCredit_columns_description.csv\n",
            "\n",
            "HomeCredit_columns_description.csv 100% |############| Time: 0:00:00  69.1 KiB/s\n",
            "\n"
          ],
          "name": "stdout"
        }
      ]
    },
    {
      "metadata": {
        "id": "qwotExxYLfmE",
        "colab_type": "code",
        "colab": {}
      },
      "cell_type": "code",
      "source": [
        "!unzip -q"
      ],
      "execution_count": 0,
      "outputs": []
    }
  ]
}