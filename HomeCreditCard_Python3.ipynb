{
  "nbformat": 4,
  "nbformat_minor": 0,
  "metadata": {
    "colab": {
      "name": "HomeCreditCard_Python3.ipynb",
      "version": "0.3.2",
      "provenance": [],
      "include_colab_link": true
    },
    "kernelspec": {
      "name": "python3",
      "display_name": "Python 3"
    }
  },
  "cells": [
    {
      "cell_type": "markdown",
      "metadata": {
        "id": "view-in-github",
        "colab_type": "text"
      },
      "source": [
        "[View in Colaboratory](https://colab.research.google.com/github/ykpengba/Home-Credit-Risk-Data/blob/master/HomeCreditCard_Python3.ipynb)"
      ]
    },
    {
      "metadata": {
        "id": "1MCaRgzrgKa-",
        "colab_type": "code",
        "colab": {
          "base_uri": "https://localhost:8080/",
          "height": 54
        },
        "outputId": "150e0536-7450-40c1-f717-c6ac6c00c3a9"
      },
      "cell_type": "code",
      "source": [
        "import os\n",
        "\n",
        "print(os.listdir())"
      ],
      "execution_count": 1,
      "outputs": [
        {
          "output_type": "stream",
          "text": [
            "['datalab', 'bureau.csv', '.forever', '.cache', 'application_train.csv', 'HomeCredit_columns_description.csv', '.local', 'previous_application.csv', '.kaggle-cli', 'credit_card_balance.csv', 'application_test.csv', 'POS_CASH_balance.csv', '.ipython', 'sample_submission.csv', 'bureau_balance.csv', 'installments_payments.csv', '.config']\n"
          ],
          "name": "stdout"
        }
      ]
    },
    {
      "metadata": {
        "id": "7c2jBZxIgRtR",
        "colab_type": "code",
        "colab": {}
      },
      "cell_type": "code",
      "source": [
        "import pandas as pd\n",
        "\n",
        "credit_card_balance_df = pd.read_csv('./credit_card_balance.csv')"
      ],
      "execution_count": 0,
      "outputs": []
    },
    {
      "metadata": {
        "id": "HzwvvL4Dpf1G",
        "colab_type": "text"
      },
      "cell_type": "markdown",
      "source": [
        "# **Dealing with Missing Values**"
      ]
    },
    {
      "metadata": {
        "id": "nWsl-LIDgURz",
        "colab_type": "code",
        "colab": {
          "base_uri": "https://localhost:8080/",
          "height": 425
        },
        "outputId": "e3eeeea5-fc08-4bc3-96b4-00e25c51bd48"
      },
      "cell_type": "code",
      "source": [
        "credit_card_NA_values = credit_card_balance_df.isnull().sum()\n",
        "credit_card_NA_values\n"
      ],
      "execution_count": 46,
      "outputs": [
        {
          "output_type": "execute_result",
          "data": {
            "text/plain": [
              "SK_ID_PREV                         0\n",
              "SK_ID_CURR                         0\n",
              "MONTHS_BALANCE                     0\n",
              "AMT_BALANCE                        0\n",
              "AMT_CREDIT_LIMIT_ACTUAL            0\n",
              "AMT_DRAWINGS_ATM_CURRENT      749816\n",
              "AMT_DRAWINGS_CURRENT               0\n",
              "AMT_DRAWINGS_OTHER_CURRENT    749816\n",
              "AMT_DRAWINGS_POS_CURRENT      749816\n",
              "AMT_INST_MIN_REGULARITY       305236\n",
              "AMT_PAYMENT_CURRENT           767988\n",
              "AMT_PAYMENT_TOTAL_CURRENT          0\n",
              "AMT_RECEIVABLE_PRINCIPAL           0\n",
              "AMT_RECIVABLE                      0\n",
              "AMT_TOTAL_RECEIVABLE               0\n",
              "CNT_DRAWINGS_ATM_CURRENT      749816\n",
              "CNT_DRAWINGS_CURRENT               0\n",
              "CNT_DRAWINGS_OTHER_CURRENT    749816\n",
              "CNT_DRAWINGS_POS_CURRENT      749816\n",
              "CNT_INSTALMENT_MATURE_CUM     305236\n",
              "NAME_CONTRACT_STATUS               0\n",
              "SK_DPD                             0\n",
              "SK_DPD_DEF                         0\n",
              "dtype: int64"
            ]
          },
          "metadata": {
            "tags": []
          },
          "execution_count": 46
        }
      ]
    },
    {
      "metadata": {
        "id": "O-3Ziui3lPTt",
        "colab_type": "code",
        "colab": {
          "base_uri": "https://localhost:8080/",
          "height": 425
        },
        "outputId": "edca4d5e-7724-4435-8956-8ead6f98b06b"
      },
      "cell_type": "code",
      "source": [
        "credit_card_balance_count = credit_card_balance_df.count()\n",
        "credit_card_balance_count"
      ],
      "execution_count": 47,
      "outputs": [
        {
          "output_type": "execute_result",
          "data": {
            "text/plain": [
              "SK_ID_PREV                    3840312\n",
              "SK_ID_CURR                    3840312\n",
              "MONTHS_BALANCE                3840312\n",
              "AMT_BALANCE                   3840312\n",
              "AMT_CREDIT_LIMIT_ACTUAL       3840312\n",
              "AMT_DRAWINGS_ATM_CURRENT      3090496\n",
              "AMT_DRAWINGS_CURRENT          3840312\n",
              "AMT_DRAWINGS_OTHER_CURRENT    3090496\n",
              "AMT_DRAWINGS_POS_CURRENT      3090496\n",
              "AMT_INST_MIN_REGULARITY       3535076\n",
              "AMT_PAYMENT_CURRENT           3072324\n",
              "AMT_PAYMENT_TOTAL_CURRENT     3840312\n",
              "AMT_RECEIVABLE_PRINCIPAL      3840312\n",
              "AMT_RECIVABLE                 3840312\n",
              "AMT_TOTAL_RECEIVABLE          3840312\n",
              "CNT_DRAWINGS_ATM_CURRENT      3090496\n",
              "CNT_DRAWINGS_CURRENT          3840312\n",
              "CNT_DRAWINGS_OTHER_CURRENT    3090496\n",
              "CNT_DRAWINGS_POS_CURRENT      3090496\n",
              "CNT_INSTALMENT_MATURE_CUM     3535076\n",
              "NAME_CONTRACT_STATUS          3840312\n",
              "SK_DPD                        3840312\n",
              "SK_DPD_DEF                    3840312\n",
              "dtype: int64"
            ]
          },
          "metadata": {
            "tags": []
          },
          "execution_count": 47
        }
      ]
    },
    {
      "metadata": {
        "id": "9nBscSdClUar",
        "colab_type": "code",
        "colab": {
          "base_uri": "https://localhost:8080/",
          "height": 762
        },
        "outputId": "29a34893-5589-4e4f-96f3-7f2f662946e4"
      },
      "cell_type": "code",
      "source": [
        "missing_value_percentage = credit_card_NA_values/credit_card_balance_count * 100\n",
        "missing_value_columns_df = pd.DataFrame(missing_value_percentage, columns={'missing_value_percentage'}).reset_index()\n",
        "missing_value_columns_df.rename(columns={'index':'column_names'},inplace=True)\n",
        "missing_value_columns_df"
      ],
      "execution_count": 48,
      "outputs": [
        {
          "output_type": "execute_result",
          "data": {
            "text/html": [
              "<div>\n",
              "<style scoped>\n",
              "    .dataframe tbody tr th:only-of-type {\n",
              "        vertical-align: middle;\n",
              "    }\n",
              "\n",
              "    .dataframe tbody tr th {\n",
              "        vertical-align: top;\n",
              "    }\n",
              "\n",
              "    .dataframe thead th {\n",
              "        text-align: right;\n",
              "    }\n",
              "</style>\n",
              "<table border=\"1\" class=\"dataframe\">\n",
              "  <thead>\n",
              "    <tr style=\"text-align: right;\">\n",
              "      <th></th>\n",
              "      <th>column_names</th>\n",
              "      <th>missing_value_percentage</th>\n",
              "    </tr>\n",
              "  </thead>\n",
              "  <tbody>\n",
              "    <tr>\n",
              "      <th>0</th>\n",
              "      <td>SK_ID_PREV</td>\n",
              "      <td>0.000000</td>\n",
              "    </tr>\n",
              "    <tr>\n",
              "      <th>1</th>\n",
              "      <td>SK_ID_CURR</td>\n",
              "      <td>0.000000</td>\n",
              "    </tr>\n",
              "    <tr>\n",
              "      <th>2</th>\n",
              "      <td>MONTHS_BALANCE</td>\n",
              "      <td>0.000000</td>\n",
              "    </tr>\n",
              "    <tr>\n",
              "      <th>3</th>\n",
              "      <td>AMT_BALANCE</td>\n",
              "      <td>0.000000</td>\n",
              "    </tr>\n",
              "    <tr>\n",
              "      <th>4</th>\n",
              "      <td>AMT_CREDIT_LIMIT_ACTUAL</td>\n",
              "      <td>0.000000</td>\n",
              "    </tr>\n",
              "    <tr>\n",
              "      <th>5</th>\n",
              "      <td>AMT_DRAWINGS_ATM_CURRENT</td>\n",
              "      <td>24.261995</td>\n",
              "    </tr>\n",
              "    <tr>\n",
              "      <th>6</th>\n",
              "      <td>AMT_DRAWINGS_CURRENT</td>\n",
              "      <td>0.000000</td>\n",
              "    </tr>\n",
              "    <tr>\n",
              "      <th>7</th>\n",
              "      <td>AMT_DRAWINGS_OTHER_CURRENT</td>\n",
              "      <td>24.261995</td>\n",
              "    </tr>\n",
              "    <tr>\n",
              "      <th>8</th>\n",
              "      <td>AMT_DRAWINGS_POS_CURRENT</td>\n",
              "      <td>24.261995</td>\n",
              "    </tr>\n",
              "    <tr>\n",
              "      <th>9</th>\n",
              "      <td>AMT_INST_MIN_REGULARITY</td>\n",
              "      <td>8.634496</td>\n",
              "    </tr>\n",
              "    <tr>\n",
              "      <th>10</th>\n",
              "      <td>AMT_PAYMENT_CURRENT</td>\n",
              "      <td>24.996973</td>\n",
              "    </tr>\n",
              "    <tr>\n",
              "      <th>11</th>\n",
              "      <td>AMT_PAYMENT_TOTAL_CURRENT</td>\n",
              "      <td>0.000000</td>\n",
              "    </tr>\n",
              "    <tr>\n",
              "      <th>12</th>\n",
              "      <td>AMT_RECEIVABLE_PRINCIPAL</td>\n",
              "      <td>0.000000</td>\n",
              "    </tr>\n",
              "    <tr>\n",
              "      <th>13</th>\n",
              "      <td>AMT_RECIVABLE</td>\n",
              "      <td>0.000000</td>\n",
              "    </tr>\n",
              "    <tr>\n",
              "      <th>14</th>\n",
              "      <td>AMT_TOTAL_RECEIVABLE</td>\n",
              "      <td>0.000000</td>\n",
              "    </tr>\n",
              "    <tr>\n",
              "      <th>15</th>\n",
              "      <td>CNT_DRAWINGS_ATM_CURRENT</td>\n",
              "      <td>24.261995</td>\n",
              "    </tr>\n",
              "    <tr>\n",
              "      <th>16</th>\n",
              "      <td>CNT_DRAWINGS_CURRENT</td>\n",
              "      <td>0.000000</td>\n",
              "    </tr>\n",
              "    <tr>\n",
              "      <th>17</th>\n",
              "      <td>CNT_DRAWINGS_OTHER_CURRENT</td>\n",
              "      <td>24.261995</td>\n",
              "    </tr>\n",
              "    <tr>\n",
              "      <th>18</th>\n",
              "      <td>CNT_DRAWINGS_POS_CURRENT</td>\n",
              "      <td>24.261995</td>\n",
              "    </tr>\n",
              "    <tr>\n",
              "      <th>19</th>\n",
              "      <td>CNT_INSTALMENT_MATURE_CUM</td>\n",
              "      <td>8.634496</td>\n",
              "    </tr>\n",
              "    <tr>\n",
              "      <th>20</th>\n",
              "      <td>NAME_CONTRACT_STATUS</td>\n",
              "      <td>0.000000</td>\n",
              "    </tr>\n",
              "    <tr>\n",
              "      <th>21</th>\n",
              "      <td>SK_DPD</td>\n",
              "      <td>0.000000</td>\n",
              "    </tr>\n",
              "    <tr>\n",
              "      <th>22</th>\n",
              "      <td>SK_DPD_DEF</td>\n",
              "      <td>0.000000</td>\n",
              "    </tr>\n",
              "  </tbody>\n",
              "</table>\n",
              "</div>"
            ],
            "text/plain": [
              "                  column_names  missing_value_percentage\n",
              "0                   SK_ID_PREV                  0.000000\n",
              "1                   SK_ID_CURR                  0.000000\n",
              "2               MONTHS_BALANCE                  0.000000\n",
              "3                  AMT_BALANCE                  0.000000\n",
              "4      AMT_CREDIT_LIMIT_ACTUAL                  0.000000\n",
              "5     AMT_DRAWINGS_ATM_CURRENT                 24.261995\n",
              "6         AMT_DRAWINGS_CURRENT                  0.000000\n",
              "7   AMT_DRAWINGS_OTHER_CURRENT                 24.261995\n",
              "8     AMT_DRAWINGS_POS_CURRENT                 24.261995\n",
              "9      AMT_INST_MIN_REGULARITY                  8.634496\n",
              "10         AMT_PAYMENT_CURRENT                 24.996973\n",
              "11   AMT_PAYMENT_TOTAL_CURRENT                  0.000000\n",
              "12    AMT_RECEIVABLE_PRINCIPAL                  0.000000\n",
              "13               AMT_RECIVABLE                  0.000000\n",
              "14        AMT_TOTAL_RECEIVABLE                  0.000000\n",
              "15    CNT_DRAWINGS_ATM_CURRENT                 24.261995\n",
              "16        CNT_DRAWINGS_CURRENT                  0.000000\n",
              "17  CNT_DRAWINGS_OTHER_CURRENT                 24.261995\n",
              "18    CNT_DRAWINGS_POS_CURRENT                 24.261995\n",
              "19   CNT_INSTALMENT_MATURE_CUM                  8.634496\n",
              "20        NAME_CONTRACT_STATUS                  0.000000\n",
              "21                      SK_DPD                  0.000000\n",
              "22                  SK_DPD_DEF                  0.000000"
            ]
          },
          "metadata": {
            "tags": []
          },
          "execution_count": 48
        }
      ]
    },
    {
      "metadata": {
        "id": "zrRQHi7gl_sq",
        "colab_type": "code",
        "colab": {
          "base_uri": "https://localhost:8080/",
          "height": 54
        },
        "outputId": "1a58348a-c63c-446b-8cdd-db644b180f44"
      },
      "cell_type": "code",
      "source": [
        "missing_value_column_list= []\n",
        "\n",
        "for i in range(0,len(missing_value_df)):\n",
        "  if missing_value_columns_df.missing_value_percentage[i] > 0:\n",
        "     missing_value_column_list.append(missing_value_columns_df.column_names[i])\n",
        "\n",
        "print(missing_value_column_list)"
      ],
      "execution_count": 49,
      "outputs": [
        {
          "output_type": "stream",
          "text": [
            "['AMT_DRAWINGS_ATM_CURRENT', 'AMT_DRAWINGS_OTHER_CURRENT', 'AMT_DRAWINGS_POS_CURRENT', 'AMT_INST_MIN_REGULARITY', 'AMT_PAYMENT_CURRENT', 'CNT_DRAWINGS_ATM_CURRENT', 'CNT_DRAWINGS_OTHER_CURRENT', 'CNT_DRAWINGS_POS_CURRENT', 'CNT_INSTALMENT_MATURE_CUM']\n"
          ],
          "name": "stdout"
        }
      ]
    },
    {
      "metadata": {
        "id": "B1s2WQrA4e9P",
        "colab_type": "text"
      },
      "cell_type": "markdown",
      "source": [
        "Missing Data Column Meanings\n",
        "\n",
        "\n",
        "---\n",
        "\n",
        "\n",
        "*   AMT_DRAWINGS_ATM_CURRENT: Amount drawing at ATM during the month of the previous credit\n",
        "\n",
        "*   AMT_DRAWINGS_OTHER_CURRENT: Amount of other drawings during the month of the previous credit\n",
        "\n",
        "*   AMT_DRAWINGS_POS_CURRENT:Amount drawing or buying goods during the month of the previous credit\n",
        "\n",
        "*   AMT_INST_MIN_REGULARITY:Minimal installment for this month of the previous credit\n",
        "\n",
        "* AMT_PAYMENT_CURRENT: How much did the client pay during the month on the previous credit\n",
        "\n",
        "* CNT_DRAWINGS_ATM_CURRENT: Number of drawings at ATM during this month on the previous credit\n",
        "\n",
        "* CNT_DRAWINGS_OTHER_CURRENT: Number of other drawings during this month on the previous credit\n",
        "\n",
        "* CNT_DRAWINGS_POS_CURRENT: Number of drawings for goods during this month on the previous credit\n",
        "\n",
        "* CNT_INSTALMENT_MATURE_CUM: Number of paid installments on the previous credit\n",
        "\n",
        "\n",
        "\n"
      ]
    },
    {
      "metadata": {
        "id": "0NpLbeoilgX1",
        "colab_type": "code",
        "colab": {
          "base_uri": "https://localhost:8080/",
          "height": 317
        },
        "outputId": "30f0b4ba-6d42-4e40-f8ad-cc21ead0b443"
      },
      "cell_type": "code",
      "source": [
        "missing_value_df = credit_card_balance_df[missing_value_column_list]\n",
        "missing_value_df.describe()"
      ],
      "execution_count": 56,
      "outputs": [
        {
          "output_type": "execute_result",
          "data": {
            "text/html": [
              "<div>\n",
              "<style scoped>\n",
              "    .dataframe tbody tr th:only-of-type {\n",
              "        vertical-align: middle;\n",
              "    }\n",
              "\n",
              "    .dataframe tbody tr th {\n",
              "        vertical-align: top;\n",
              "    }\n",
              "\n",
              "    .dataframe thead th {\n",
              "        text-align: right;\n",
              "    }\n",
              "</style>\n",
              "<table border=\"1\" class=\"dataframe\">\n",
              "  <thead>\n",
              "    <tr style=\"text-align: right;\">\n",
              "      <th></th>\n",
              "      <th>AMT_DRAWINGS_ATM_CURRENT</th>\n",
              "      <th>AMT_DRAWINGS_OTHER_CURRENT</th>\n",
              "      <th>AMT_DRAWINGS_POS_CURRENT</th>\n",
              "      <th>AMT_INST_MIN_REGULARITY</th>\n",
              "      <th>AMT_PAYMENT_CURRENT</th>\n",
              "      <th>CNT_DRAWINGS_ATM_CURRENT</th>\n",
              "      <th>CNT_DRAWINGS_OTHER_CURRENT</th>\n",
              "      <th>CNT_DRAWINGS_POS_CURRENT</th>\n",
              "      <th>CNT_INSTALMENT_MATURE_CUM</th>\n",
              "    </tr>\n",
              "  </thead>\n",
              "  <tbody>\n",
              "    <tr>\n",
              "      <th>count</th>\n",
              "      <td>3.090496e+06</td>\n",
              "      <td>3.090496e+06</td>\n",
              "      <td>3.090496e+06</td>\n",
              "      <td>3.535076e+06</td>\n",
              "      <td>3.072324e+06</td>\n",
              "      <td>3.090496e+06</td>\n",
              "      <td>3.090496e+06</td>\n",
              "      <td>3.090496e+06</td>\n",
              "      <td>3.535076e+06</td>\n",
              "    </tr>\n",
              "    <tr>\n",
              "      <th>mean</th>\n",
              "      <td>5.961325e+03</td>\n",
              "      <td>2.881696e+02</td>\n",
              "      <td>2.968805e+03</td>\n",
              "      <td>3.540204e+03</td>\n",
              "      <td>1.028054e+04</td>\n",
              "      <td>3.094490e-01</td>\n",
              "      <td>4.812496e-03</td>\n",
              "      <td>5.594791e-01</td>\n",
              "      <td>2.082508e+01</td>\n",
              "    </tr>\n",
              "    <tr>\n",
              "      <th>std</th>\n",
              "      <td>2.822569e+04</td>\n",
              "      <td>8.201989e+03</td>\n",
              "      <td>2.079689e+04</td>\n",
              "      <td>5.600154e+03</td>\n",
              "      <td>3.607808e+04</td>\n",
              "      <td>1.100401e+00</td>\n",
              "      <td>8.263861e-02</td>\n",
              "      <td>3.240649e+00</td>\n",
              "      <td>2.005149e+01</td>\n",
              "    </tr>\n",
              "    <tr>\n",
              "      <th>min</th>\n",
              "      <td>-6.827310e+03</td>\n",
              "      <td>0.000000e+00</td>\n",
              "      <td>0.000000e+00</td>\n",
              "      <td>0.000000e+00</td>\n",
              "      <td>0.000000e+00</td>\n",
              "      <td>0.000000e+00</td>\n",
              "      <td>0.000000e+00</td>\n",
              "      <td>0.000000e+00</td>\n",
              "      <td>0.000000e+00</td>\n",
              "    </tr>\n",
              "    <tr>\n",
              "      <th>25%</th>\n",
              "      <td>0.000000e+00</td>\n",
              "      <td>0.000000e+00</td>\n",
              "      <td>0.000000e+00</td>\n",
              "      <td>0.000000e+00</td>\n",
              "      <td>1.523700e+02</td>\n",
              "      <td>0.000000e+00</td>\n",
              "      <td>0.000000e+00</td>\n",
              "      <td>0.000000e+00</td>\n",
              "      <td>4.000000e+00</td>\n",
              "    </tr>\n",
              "    <tr>\n",
              "      <th>50%</th>\n",
              "      <td>0.000000e+00</td>\n",
              "      <td>0.000000e+00</td>\n",
              "      <td>0.000000e+00</td>\n",
              "      <td>0.000000e+00</td>\n",
              "      <td>2.702700e+03</td>\n",
              "      <td>0.000000e+00</td>\n",
              "      <td>0.000000e+00</td>\n",
              "      <td>0.000000e+00</td>\n",
              "      <td>1.500000e+01</td>\n",
              "    </tr>\n",
              "    <tr>\n",
              "      <th>75%</th>\n",
              "      <td>0.000000e+00</td>\n",
              "      <td>0.000000e+00</td>\n",
              "      <td>0.000000e+00</td>\n",
              "      <td>6.633911e+03</td>\n",
              "      <td>9.000000e+03</td>\n",
              "      <td>0.000000e+00</td>\n",
              "      <td>0.000000e+00</td>\n",
              "      <td>0.000000e+00</td>\n",
              "      <td>3.200000e+01</td>\n",
              "    </tr>\n",
              "    <tr>\n",
              "      <th>max</th>\n",
              "      <td>2.115000e+06</td>\n",
              "      <td>1.529847e+06</td>\n",
              "      <td>2.239274e+06</td>\n",
              "      <td>2.028820e+05</td>\n",
              "      <td>4.289207e+06</td>\n",
              "      <td>5.100000e+01</td>\n",
              "      <td>1.200000e+01</td>\n",
              "      <td>1.650000e+02</td>\n",
              "      <td>1.200000e+02</td>\n",
              "    </tr>\n",
              "  </tbody>\n",
              "</table>\n",
              "</div>"
            ],
            "text/plain": [
              "       AMT_DRAWINGS_ATM_CURRENT  AMT_DRAWINGS_OTHER_CURRENT  \\\n",
              "count              3.090496e+06                3.090496e+06   \n",
              "mean               5.961325e+03                2.881696e+02   \n",
              "std                2.822569e+04                8.201989e+03   \n",
              "min               -6.827310e+03                0.000000e+00   \n",
              "25%                0.000000e+00                0.000000e+00   \n",
              "50%                0.000000e+00                0.000000e+00   \n",
              "75%                0.000000e+00                0.000000e+00   \n",
              "max                2.115000e+06                1.529847e+06   \n",
              "\n",
              "       AMT_DRAWINGS_POS_CURRENT  AMT_INST_MIN_REGULARITY  AMT_PAYMENT_CURRENT  \\\n",
              "count              3.090496e+06             3.535076e+06         3.072324e+06   \n",
              "mean               2.968805e+03             3.540204e+03         1.028054e+04   \n",
              "std                2.079689e+04             5.600154e+03         3.607808e+04   \n",
              "min                0.000000e+00             0.000000e+00         0.000000e+00   \n",
              "25%                0.000000e+00             0.000000e+00         1.523700e+02   \n",
              "50%                0.000000e+00             0.000000e+00         2.702700e+03   \n",
              "75%                0.000000e+00             6.633911e+03         9.000000e+03   \n",
              "max                2.239274e+06             2.028820e+05         4.289207e+06   \n",
              "\n",
              "       CNT_DRAWINGS_ATM_CURRENT  CNT_DRAWINGS_OTHER_CURRENT  \\\n",
              "count              3.090496e+06                3.090496e+06   \n",
              "mean               3.094490e-01                4.812496e-03   \n",
              "std                1.100401e+00                8.263861e-02   \n",
              "min                0.000000e+00                0.000000e+00   \n",
              "25%                0.000000e+00                0.000000e+00   \n",
              "50%                0.000000e+00                0.000000e+00   \n",
              "75%                0.000000e+00                0.000000e+00   \n",
              "max                5.100000e+01                1.200000e+01   \n",
              "\n",
              "       CNT_DRAWINGS_POS_CURRENT  CNT_INSTALMENT_MATURE_CUM  \n",
              "count              3.090496e+06               3.535076e+06  \n",
              "mean               5.594791e-01               2.082508e+01  \n",
              "std                3.240649e+00               2.005149e+01  \n",
              "min                0.000000e+00               0.000000e+00  \n",
              "25%                0.000000e+00               4.000000e+00  \n",
              "50%                0.000000e+00               1.500000e+01  \n",
              "75%                0.000000e+00               3.200000e+01  \n",
              "max                1.650000e+02               1.200000e+02  "
            ]
          },
          "metadata": {
            "tags": []
          },
          "execution_count": 56
        }
      ]
    },
    {
      "metadata": {
        "id": "CnVcZ0nYn2dT",
        "colab_type": "code",
        "colab": {}
      },
      "cell_type": "code",
      "source": [
        ""
      ],
      "execution_count": 0,
      "outputs": []
    }
  ]
}