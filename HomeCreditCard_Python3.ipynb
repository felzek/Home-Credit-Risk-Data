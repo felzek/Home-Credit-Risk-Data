{
  "nbformat": 4,
  "nbformat_minor": 0,
  "metadata": {
    "colab": {
      "name": "HomeCreditCard_Python3.ipynb",
      "version": "0.3.2",
      "provenance": []
    },
    "kernelspec": {
      "name": "python3",
      "display_name": "Python 3"
    }
  },
  "cells": [
    {
      "metadata": {
        "id": "1MCaRgzrgKa-",
        "colab_type": "code",
        "colab": {
          "base_uri": "https://localhost:8080/",
          "height": 54
        },
        "outputId": "150e0536-7450-40c1-f717-c6ac6c00c3a9"
      },
      "cell_type": "code",
      "source": [
        "import os\n",
        "\n",
        "print(os.listdir())"
      ],
      "execution_count": 1,
      "outputs": [
        {
          "output_type": "stream",
          "text": [
            "['datalab', 'bureau.csv', '.forever', '.cache', 'application_train.csv', 'HomeCredit_columns_description.csv', '.local', 'previous_application.csv', '.kaggle-cli', 'credit_card_balance.csv', 'application_test.csv', 'POS_CASH_balance.csv', '.ipython', 'sample_submission.csv', 'bureau_balance.csv', 'installments_payments.csv', '.config']\n"
          ],
          "name": "stdout"
        }
      ]
    },
    {
      "metadata": {
        "id": "7c2jBZxIgRtR",
        "colab_type": "code",
        "colab": {}
      },
      "cell_type": "code",
      "source": [
        "import pandas as pd\n",
        "\n",
        "credit_card_balance_df = pd.read_csv('./credit_card_balance.csv')"
      ],
      "execution_count": 0,
      "outputs": []
    },
    {
      "metadata": {
        "id": "nWsl-LIDgURz",
        "colab_type": "code",
        "colab": {
          "base_uri": "https://localhost:8080/",
          "height": 425
        },
        "outputId": "adcf5e87-10e2-4f53-fc92-ca51c34058ec"
      },
      "cell_type": "code",
      "source": [
        "credit_card_NA_values = credit_card_balance_df.isnull().sum()\n",
        "credit_card_NA_values\n"
      ],
      "execution_count": 10,
      "outputs": [
        {
          "output_type": "execute_result",
          "data": {
            "text/plain": [
              "SK_ID_PREV                         0\n",
              "SK_ID_CURR                         0\n",
              "MONTHS_BALANCE                     0\n",
              "AMT_BALANCE                        0\n",
              "AMT_CREDIT_LIMIT_ACTUAL            0\n",
              "AMT_DRAWINGS_ATM_CURRENT      749816\n",
              "AMT_DRAWINGS_CURRENT               0\n",
              "AMT_DRAWINGS_OTHER_CURRENT    749816\n",
              "AMT_DRAWINGS_POS_CURRENT      749816\n",
              "AMT_INST_MIN_REGULARITY       305236\n",
              "AMT_PAYMENT_CURRENT           767988\n",
              "AMT_PAYMENT_TOTAL_CURRENT          0\n",
              "AMT_RECEIVABLE_PRINCIPAL           0\n",
              "AMT_RECIVABLE                      0\n",
              "AMT_TOTAL_RECEIVABLE               0\n",
              "CNT_DRAWINGS_ATM_CURRENT      749816\n",
              "CNT_DRAWINGS_CURRENT               0\n",
              "CNT_DRAWINGS_OTHER_CURRENT    749816\n",
              "CNT_DRAWINGS_POS_CURRENT      749816\n",
              "CNT_INSTALMENT_MATURE_CUM     305236\n",
              "NAME_CONTRACT_STATUS               0\n",
              "SK_DPD                             0\n",
              "SK_DPD_DEF                         0\n",
              "dtype: int64"
            ]
          },
          "metadata": {
            "tags": []
          },
          "execution_count": 10
        }
      ]
    },
    {
      "metadata": {
        "id": "O-3Ziui3lPTt",
        "colab_type": "code",
        "colab": {
          "base_uri": "https://localhost:8080/",
          "height": 425
        },
        "outputId": "33d8339e-7c48-488f-a817-21ca531b7d4a"
      },
      "cell_type": "code",
      "source": [
        "credit_card_balance_count = credit_card_balance_df.count()\n",
        "credit_card_balance_count"
      ],
      "execution_count": 11,
      "outputs": [
        {
          "output_type": "execute_result",
          "data": {
            "text/plain": [
              "SK_ID_PREV                    3840312\n",
              "SK_ID_CURR                    3840312\n",
              "MONTHS_BALANCE                3840312\n",
              "AMT_BALANCE                   3840312\n",
              "AMT_CREDIT_LIMIT_ACTUAL       3840312\n",
              "AMT_DRAWINGS_ATM_CURRENT      3090496\n",
              "AMT_DRAWINGS_CURRENT          3840312\n",
              "AMT_DRAWINGS_OTHER_CURRENT    3090496\n",
              "AMT_DRAWINGS_POS_CURRENT      3090496\n",
              "AMT_INST_MIN_REGULARITY       3535076\n",
              "AMT_PAYMENT_CURRENT           3072324\n",
              "AMT_PAYMENT_TOTAL_CURRENT     3840312\n",
              "AMT_RECEIVABLE_PRINCIPAL      3840312\n",
              "AMT_RECIVABLE                 3840312\n",
              "AMT_TOTAL_RECEIVABLE          3840312\n",
              "CNT_DRAWINGS_ATM_CURRENT      3090496\n",
              "CNT_DRAWINGS_CURRENT          3840312\n",
              "CNT_DRAWINGS_OTHER_CURRENT    3090496\n",
              "CNT_DRAWINGS_POS_CURRENT      3090496\n",
              "CNT_INSTALMENT_MATURE_CUM     3535076\n",
              "NAME_CONTRACT_STATUS          3840312\n",
              "SK_DPD                        3840312\n",
              "SK_DPD_DEF                    3840312\n",
              "dtype: int64"
            ]
          },
          "metadata": {
            "tags": []
          },
          "execution_count": 11
        }
      ]
    },
    {
      "metadata": {
        "id": "9nBscSdClUar",
        "colab_type": "code",
        "colab": {
          "base_uri": "https://localhost:8080/",
          "height": 762
        },
        "outputId": "f8aec1da-e90d-4771-a47d-4049293af37c"
      },
      "cell_type": "code",
      "source": [
        "missing_value_percentage = credit_card_NA_values/credit_card_balance_count * 100\n",
        "missing_value_df = pd.DataFrame(missing_value_percentage, columns={'missing_value_percentage'})\n",
        "missing_value_df"
      ],
      "execution_count": 19,
      "outputs": [
        {
          "output_type": "execute_result",
          "data": {
            "text/html": [
              "<div>\n",
              "<style scoped>\n",
              "    .dataframe tbody tr th:only-of-type {\n",
              "        vertical-align: middle;\n",
              "    }\n",
              "\n",
              "    .dataframe tbody tr th {\n",
              "        vertical-align: top;\n",
              "    }\n",
              "\n",
              "    .dataframe thead th {\n",
              "        text-align: right;\n",
              "    }\n",
              "</style>\n",
              "<table border=\"1\" class=\"dataframe\">\n",
              "  <thead>\n",
              "    <tr style=\"text-align: right;\">\n",
              "      <th></th>\n",
              "      <th>missing_value_percentage</th>\n",
              "    </tr>\n",
              "  </thead>\n",
              "  <tbody>\n",
              "    <tr>\n",
              "      <th>SK_ID_PREV</th>\n",
              "      <td>0.000000</td>\n",
              "    </tr>\n",
              "    <tr>\n",
              "      <th>SK_ID_CURR</th>\n",
              "      <td>0.000000</td>\n",
              "    </tr>\n",
              "    <tr>\n",
              "      <th>MONTHS_BALANCE</th>\n",
              "      <td>0.000000</td>\n",
              "    </tr>\n",
              "    <tr>\n",
              "      <th>AMT_BALANCE</th>\n",
              "      <td>0.000000</td>\n",
              "    </tr>\n",
              "    <tr>\n",
              "      <th>AMT_CREDIT_LIMIT_ACTUAL</th>\n",
              "      <td>0.000000</td>\n",
              "    </tr>\n",
              "    <tr>\n",
              "      <th>AMT_DRAWINGS_ATM_CURRENT</th>\n",
              "      <td>24.261995</td>\n",
              "    </tr>\n",
              "    <tr>\n",
              "      <th>AMT_DRAWINGS_CURRENT</th>\n",
              "      <td>0.000000</td>\n",
              "    </tr>\n",
              "    <tr>\n",
              "      <th>AMT_DRAWINGS_OTHER_CURRENT</th>\n",
              "      <td>24.261995</td>\n",
              "    </tr>\n",
              "    <tr>\n",
              "      <th>AMT_DRAWINGS_POS_CURRENT</th>\n",
              "      <td>24.261995</td>\n",
              "    </tr>\n",
              "    <tr>\n",
              "      <th>AMT_INST_MIN_REGULARITY</th>\n",
              "      <td>8.634496</td>\n",
              "    </tr>\n",
              "    <tr>\n",
              "      <th>AMT_PAYMENT_CURRENT</th>\n",
              "      <td>24.996973</td>\n",
              "    </tr>\n",
              "    <tr>\n",
              "      <th>AMT_PAYMENT_TOTAL_CURRENT</th>\n",
              "      <td>0.000000</td>\n",
              "    </tr>\n",
              "    <tr>\n",
              "      <th>AMT_RECEIVABLE_PRINCIPAL</th>\n",
              "      <td>0.000000</td>\n",
              "    </tr>\n",
              "    <tr>\n",
              "      <th>AMT_RECIVABLE</th>\n",
              "      <td>0.000000</td>\n",
              "    </tr>\n",
              "    <tr>\n",
              "      <th>AMT_TOTAL_RECEIVABLE</th>\n",
              "      <td>0.000000</td>\n",
              "    </tr>\n",
              "    <tr>\n",
              "      <th>CNT_DRAWINGS_ATM_CURRENT</th>\n",
              "      <td>24.261995</td>\n",
              "    </tr>\n",
              "    <tr>\n",
              "      <th>CNT_DRAWINGS_CURRENT</th>\n",
              "      <td>0.000000</td>\n",
              "    </tr>\n",
              "    <tr>\n",
              "      <th>CNT_DRAWINGS_OTHER_CURRENT</th>\n",
              "      <td>24.261995</td>\n",
              "    </tr>\n",
              "    <tr>\n",
              "      <th>CNT_DRAWINGS_POS_CURRENT</th>\n",
              "      <td>24.261995</td>\n",
              "    </tr>\n",
              "    <tr>\n",
              "      <th>CNT_INSTALMENT_MATURE_CUM</th>\n",
              "      <td>8.634496</td>\n",
              "    </tr>\n",
              "    <tr>\n",
              "      <th>NAME_CONTRACT_STATUS</th>\n",
              "      <td>0.000000</td>\n",
              "    </tr>\n",
              "    <tr>\n",
              "      <th>SK_DPD</th>\n",
              "      <td>0.000000</td>\n",
              "    </tr>\n",
              "    <tr>\n",
              "      <th>SK_DPD_DEF</th>\n",
              "      <td>0.000000</td>\n",
              "    </tr>\n",
              "  </tbody>\n",
              "</table>\n",
              "</div>"
            ],
            "text/plain": [
              "                            missing_value_percentage\n",
              "SK_ID_PREV                                  0.000000\n",
              "SK_ID_CURR                                  0.000000\n",
              "MONTHS_BALANCE                              0.000000\n",
              "AMT_BALANCE                                 0.000000\n",
              "AMT_CREDIT_LIMIT_ACTUAL                     0.000000\n",
              "AMT_DRAWINGS_ATM_CURRENT                   24.261995\n",
              "AMT_DRAWINGS_CURRENT                        0.000000\n",
              "AMT_DRAWINGS_OTHER_CURRENT                 24.261995\n",
              "AMT_DRAWINGS_POS_CURRENT                   24.261995\n",
              "AMT_INST_MIN_REGULARITY                     8.634496\n",
              "AMT_PAYMENT_CURRENT                        24.996973\n",
              "AMT_PAYMENT_TOTAL_CURRENT                   0.000000\n",
              "AMT_RECEIVABLE_PRINCIPAL                    0.000000\n",
              "AMT_RECIVABLE                               0.000000\n",
              "AMT_TOTAL_RECEIVABLE                        0.000000\n",
              "CNT_DRAWINGS_ATM_CURRENT                   24.261995\n",
              "CNT_DRAWINGS_CURRENT                        0.000000\n",
              "CNT_DRAWINGS_OTHER_CURRENT                 24.261995\n",
              "CNT_DRAWINGS_POS_CURRENT                   24.261995\n",
              "CNT_INSTALMENT_MATURE_CUM                   8.634496\n",
              "NAME_CONTRACT_STATUS                        0.000000\n",
              "SK_DPD                                      0.000000\n",
              "SK_DPD_DEF                                  0.000000"
            ]
          },
          "metadata": {
            "tags": []
          },
          "execution_count": 19
        }
      ]
    },
    {
      "metadata": {
        "id": "zrRQHi7gl_sq",
        "colab_type": "code",
        "colab": {
          "base_uri": "https://localhost:8080/",
          "height": 425
        },
        "outputId": "33d8339e-7c48-488f-a817-21ca531b7d4a"
      },
      "cell_type": "code",
      "source": [
        "credit_card_balance_count = credit_card_balance_df.count()\n",
        "credit_card_balance_count"
      ],
      "execution_count": 0,
      "outputs": [
        {
          "output_type": "execute_result",
          "data": {
            "text/plain": [
              "SK_ID_PREV                    3840312\n",
              "SK_ID_CURR                    3840312\n",
              "MONTHS_BALANCE                3840312\n",
              "AMT_BALANCE                   3840312\n",
              "AMT_CREDIT_LIMIT_ACTUAL       3840312\n",
              "AMT_DRAWINGS_ATM_CURRENT      3090496\n",
              "AMT_DRAWINGS_CURRENT          3840312\n",
              "AMT_DRAWINGS_OTHER_CURRENT    3090496\n",
              "AMT_DRAWINGS_POS_CURRENT      3090496\n",
              "AMT_INST_MIN_REGULARITY       3535076\n",
              "AMT_PAYMENT_CURRENT           3072324\n",
              "AMT_PAYMENT_TOTAL_CURRENT     3840312\n",
              "AMT_RECEIVABLE_PRINCIPAL      3840312\n",
              "AMT_RECIVABLE                 3840312\n",
              "AMT_TOTAL_RECEIVABLE          3840312\n",
              "CNT_DRAWINGS_ATM_CURRENT      3090496\n",
              "CNT_DRAWINGS_CURRENT          3840312\n",
              "CNT_DRAWINGS_OTHER_CURRENT    3090496\n",
              "CNT_DRAWINGS_POS_CURRENT      3090496\n",
              "CNT_INSTALMENT_MATURE_CUM     3535076\n",
              "NAME_CONTRACT_STATUS          3840312\n",
              "SK_DPD                        3840312\n",
              "SK_DPD_DEF                    3840312\n",
              "dtype: int64"
            ]
          },
          "metadata": {
            "tags": []
          },
          "execution_count": 11
        }
      ]
    },
    {
      "metadata": {
        "id": "0NpLbeoilgX1",
        "colab_type": "code",
        "colab": {
          "base_uri": "https://localhost:8080/",
          "height": 425
        },
        "outputId": "395e2436-fd7f-4a58-99d9-fa736ff74b3a"
      },
      "cell_type": "code",
      "source": [
        ""
      ],
      "execution_count": 0,
      "outputs": [
        {
          "output_type": "execute_result",
          "data": {
            "text/plain": [
              "SK_ID_PREV                    3840312\n",
              "SK_ID_CURR                    3840312\n",
              "MONTHS_BALANCE                3840312\n",
              "AMT_BALANCE                   3840312\n",
              "AMT_CREDIT_LIMIT_ACTUAL       3840312\n",
              "AMT_DRAWINGS_ATM_CURRENT      3090496\n",
              "AMT_DRAWINGS_CURRENT          3840312\n",
              "AMT_DRAWINGS_OTHER_CURRENT    3090496\n",
              "AMT_DRAWINGS_POS_CURRENT      3090496\n",
              "AMT_INST_MIN_REGULARITY       3535076\n",
              "AMT_PAYMENT_CURRENT           3072324\n",
              "AMT_PAYMENT_TOTAL_CURRENT     3840312\n",
              "AMT_RECEIVABLE_PRINCIPAL      3840312\n",
              "AMT_RECIVABLE                 3840312\n",
              "AMT_TOTAL_RECEIVABLE          3840312\n",
              "CNT_DRAWINGS_ATM_CURRENT      3090496\n",
              "CNT_DRAWINGS_CURRENT          3840312\n",
              "CNT_DRAWINGS_OTHER_CURRENT    3090496\n",
              "CNT_DRAWINGS_POS_CURRENT      3090496\n",
              "CNT_INSTALMENT_MATURE_CUM     3535076\n",
              "NAME_CONTRACT_STATUS          3840312\n",
              "SK_DPD                        3840312\n",
              "SK_DPD_DEF                    3840312\n",
              "dtype: int64"
            ]
          },
          "metadata": {
            "tags": []
          },
          "execution_count": 5
        }
      ]
    }
  ]
}