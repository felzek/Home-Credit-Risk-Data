{
  "nbformat": 4,
  "nbformat_minor": 0,
  "metadata": {
    "colab": {
      "name": "HomeCreditCard_Python3.ipynb",
      "version": "0.3.2",
      "provenance": [],
      "include_colab_link": true
    },
    "kernelspec": {
      "name": "python3",
      "display_name": "Python 3"
    }
  },
  "cells": [
    {
      "cell_type": "markdown",
      "metadata": {
        "id": "view-in-github",
        "colab_type": "text"
      },
      "source": [
        "[View in Colaboratory](https://colab.research.google.com/github/ykpengba/Home-Credit-Risk-Data/blob/master/HomeCreditCard_Python3.ipynb)"
      ]
    },
    {
      "metadata": {
        "id": "1MCaRgzrgKa-",
        "colab_type": "code",
        "colab": {
          "base_uri": "https://localhost:8080/",
          "height": 54
        },
        "outputId": "150e0536-7450-40c1-f717-c6ac6c00c3a9"
      },
      "cell_type": "code",
      "source": [
        "import os\n",
        "\n",
        "print(os.listdir())"
      ],
      "execution_count": 1,
      "outputs": [
        {
          "output_type": "stream",
          "text": [
            "['datalab', 'bureau.csv', '.forever', '.cache', 'application_train.csv', 'HomeCredit_columns_description.csv', '.local', 'previous_application.csv', '.kaggle-cli', 'credit_card_balance.csv', 'application_test.csv', 'POS_CASH_balance.csv', '.ipython', 'sample_submission.csv', 'bureau_balance.csv', 'installments_payments.csv', '.config']\n"
          ],
          "name": "stdout"
        }
      ]
    },
    {
      "metadata": {
        "id": "7c2jBZxIgRtR",
        "colab_type": "code",
        "colab": {}
      },
      "cell_type": "code",
      "source": [
        "import pandas as pd\n",
        "\n",
        "credit_card_balance_df = pd.read_csv('./credit_card_balance.csv')"
      ],
      "execution_count": 0,
      "outputs": []
    },
    {
      "metadata": {
        "id": "nWsl-LIDgURz",
        "colab_type": "code",
        "colab": {}
      },
      "cell_type": "code",
      "source": [
        ""
      ],
      "execution_count": 0,
      "outputs": []
    }
  ]
}